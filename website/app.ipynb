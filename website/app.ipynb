{
 "cells": [
  {
   "cell_type": "code",
   "execution_count": 3,
   "metadata": {},
   "outputs": [
    {
     "name": "stdout",
     "output_type": "stream",
     "text": [
      " * Serving Flask app '__main__'\n",
      " * Debug mode: on\n"
     ]
    },
    {
     "name": "stderr",
     "output_type": "stream",
     "text": [
      "WARNING: This is a development server. Do not use it in a production deployment. Use a production WSGI server instead.\n",
      " * Running on http://127.0.0.1:5000\n",
      "Press CTRL+C to quit\n"
     ]
    }
   ],
   "source": [
    "from flask import Flask, render_template\n",
    "import sqlite3\n",
    "import pandas as pd\n",
    "import threading\n",
    "\n",
    "app = Flask(__name__)\n",
    "\n",
    "# Function to get data from the database\n",
    "def get_data(sample_size=10):\n",
    "    conn = sqlite3.connect(r\"C:\\Users\\canze\\Documents\\DAB111\\.venv\\Python\\Python P1\\Database\\student_data.db\")  # Adjust the path to where your DB is\n",
    "    query = f\"SELECT * FROM students LIMIT {sample_size}\"\n",
    "    df = pd.read_sql(query, conn)\n",
    "    conn.close()\n",
    "    return df\n",
    "\n",
    "@app.route(\"/\")\n",
    "def home():\n",
    "    return render_template(\"home.html\")\n",
    "\n",
    "@app.route(\"/about\")\n",
    "def about():\n",
    "    return render_template(\"about.html\")\n",
    "\n",
    "@app.route(\"/data\")\n",
    "def data():\n",
    "    df = get_data(10)\n",
    "    return render_template(\"data.html\", tables=[df.to_html(classes='data')], titles=df.columns.values)\n",
    "\n",
    "@app.route(\"/details\")\n",
    "def details():  # Change function name to 'details' to match the correct route\n",
    "    return render_template(\"details.html\")\n",
    "\n",
    "# Running the Flask app in a separate thread\n",
    "def run_app():\n",
    "    app.run(debug=True, use_reloader=False)  # `use_reloader=False` prevents the notebook from restarting itself\n",
    "\n",
    "if __name__ == \"__main__\":\n",
    "    # Start the app in a separate thread to avoid blocking\n",
    "    thread = threading.Thread(target=run_app)\n",
    "    thread.start()"
   ]
  }
 ],
 "metadata": {
  "kernelspec": {
   "display_name": ".venv",
   "language": "python",
   "name": "python3"
  },
  "language_info": {
   "codemirror_mode": {
    "name": "ipython",
    "version": 3
   },
   "file_extension": ".py",
   "mimetype": "text/x-python",
   "name": "python",
   "nbconvert_exporter": "python",
   "pygments_lexer": "ipython3",
   "version": "3.12.6"
  }
 },
 "nbformat": 4,
 "nbformat_minor": 2
}
