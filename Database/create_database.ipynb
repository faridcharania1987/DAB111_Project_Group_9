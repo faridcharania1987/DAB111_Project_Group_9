{
 "cells": [
  {
   "cell_type": "code",
   "execution_count": 2,
   "metadata": {},
   "outputs": [
    {
     "name": "stdout",
     "output_type": "stream",
     "text": [
      "Database and table created successfully!\n"
     ]
    }
   ],
   "source": [
    "import sqlite3\n",
    "import pandas as pd\n",
    "\n",
    "# Load dataset from a CSV file\n",
    "data_file = r\"C:\\Users\\canze\\Documents\\DAB111\\.venv\\Python\\Python P1\\OnlineRetail.csv\"  # Adjust to your dataset file\n",
    "df = pd.read_csv(data_file)\n",
    "\n",
    "# Connect to SQLite database\n",
    "conn = sqlite3.connect(\"student_data.db\")\n",
    "cursor = conn.cursor()\n",
    "\n",
    "# Create a table\n",
    "cursor.execute(\"\"\"\n",
    "CREATE TABLE IF NOT EXISTS students (\n",
    "    id INTEGER PRIMARY KEY AUTOINCREMENT,\n",
    "    gender TEXT,\n",
    "    race TEXT,\n",
    "    parental_education TEXT,\n",
    "    lunch TEXT,\n",
    "    math_score INTEGER,\n",
    "    reading_score INTEGER,\n",
    "    writing_score INTEGER\n",
    ");\n",
    "\"\"\")\n",
    "\n",
    "# Insert data into the table\n",
    "df.to_sql(\"students\", conn, if_exists=\"replace\", index=False)\n",
    "\n",
    "print(\"Database and table created successfully!\")\n",
    "conn.close()"
   ]
  }
 ],
 "metadata": {
  "kernelspec": {
   "display_name": ".venv",
   "language": "python",
   "name": "python3"
  },
  "language_info": {
   "codemirror_mode": {
    "name": "ipython",
    "version": 3
   },
   "file_extension": ".py",
   "mimetype": "text/x-python",
   "name": "python",
   "nbconvert_exporter": "python",
   "pygments_lexer": "ipython3",
   "version": "3.12.6"
  }
 },
 "nbformat": 4,
 "nbformat_minor": 2
}
